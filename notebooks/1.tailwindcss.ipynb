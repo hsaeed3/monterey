{
 "cells": [
  {
   "cell_type": "markdown",
   "metadata": {},
   "source": [
    "# Notebook Tool 1 -- TailwindCSS\n",
    "\n",
    "## Introduction\n",
    "\n",
    "This module is currently the only Notebook tool included in the Monterey package. It is a simple tool that allows you to use TailwindCSS classes in your Jupyter Notebooks, replacing the ugly default Markdown cells with the full force of Tailwind."
   ]
  },
  {
   "cell_type": "code",
   "execution_count": 1,
   "metadata": {},
   "outputs": [],
   "source": [
    "! pip install monterey --upgrade"
   ]
  },
  {
   "cell_type": "code",
   "execution_count": 2,
   "metadata": {},
   "outputs": [],
   "source": [
    "# Import the Module\n",
    "from monterey import Tailwind\n",
    "\n",
    "# Create an Instance\n",
    "tailwind = Tailwind()"
   ]
  },
  {
   "cell_type": "code",
   "execution_count": 19,
   "metadata": {},
   "outputs": [
    {
     "data": {
      "text/html": [
       "\n",
       "            <!DOCTYPE html>\n",
       "            <html>\n",
       "            <head>\n",
       "                <script src=\"https://cdn.tailwindcss.com\"></script>\n",
       "                <link href=\"https://fonts.googleapis.com/css2?family=DM+Sans:wght@400;500;700&family=Lexend:wght@400;500;600;700&family=Lora:wght@400;500;600;700&family=Playfair+Display:wght@400;500;600;700;800;900&family=JetBrains+Mono:wght@400;500;600;700&display=swap\" rel=\"stylesheet\">\n",
       "                <style>\n",
       "                    body { font-family: 'DM Sans', sans-serif; }\n",
       "                    h1, h2, h3, h4, h5, h6 { font-family: 'Lexend', sans-serif; }\n",
       "                    p { font-family: 'Lora', serif; }\n",
       "                    code, pre { font-family: 'JetBrains Mono', monospace; }\n",
       "                    .dm-sans { font-family: 'DM Sans', sans-serif; }\n",
       "                    .lexend { font-family: 'Lexend', sans-serif; }\n",
       "                    .lora { font-family: 'Lora', serif; }\n",
       "                    .jetbrains-mono { font-family: 'JetBrains Mono', monospace; }\n",
       "                    .playfair { font-family: 'Playfair Display', serif; }\n",
       "                </style>\n",
       "            </head>\n",
       "            <body>\n",
       "                <div class=''>Am I using Tailwind?</div>\n",
       "            </body>\n",
       "            </html>\n",
       "            "
      ],
      "text/plain": [
       "<IPython.core.display.HTML object>"
      ]
     },
     "metadata": {},
     "output_type": "display_data"
    },
    {
     "data": {
      "text/html": [
       "\n",
       "            <!DOCTYPE html>\n",
       "            <html>\n",
       "            <head>\n",
       "                <script src=\"https://cdn.tailwindcss.com\"></script>\n",
       "                <link href=\"https://fonts.googleapis.com/css2?family=DM+Sans:wght@400;500;700&family=Lexend:wght@400;500;600;700&family=Lora:wght@400;500;600;700&family=Playfair+Display:wght@400;500;600;700;800;900&family=JetBrains+Mono:wght@400;500;600;700&display=swap\" rel=\"stylesheet\">\n",
       "                <style>\n",
       "                    body { font-family: 'DM Sans', sans-serif; }\n",
       "                    h1, h2, h3, h4, h5, h6 { font-family: 'Lexend', sans-serif; }\n",
       "                    p { font-family: 'Lora', serif; }\n",
       "                    code, pre { font-family: 'JetBrains Mono', monospace; }\n",
       "                    .dm-sans { font-family: 'DM Sans', sans-serif; }\n",
       "                    .lexend { font-family: 'Lexend', sans-serif; }\n",
       "                    .lora { font-family: 'Lora', serif; }\n",
       "                    .jetbrains-mono { font-family: 'JetBrains Mono', monospace; }\n",
       "                    .playfair { font-family: 'Playfair Display', serif; }\n",
       "                </style>\n",
       "            </head>\n",
       "            <body>\n",
       "                <div class='text-md text-white'>I'm using Tailwind CSS with Python!</div>\n",
       "            </body>\n",
       "            </html>\n",
       "            "
      ],
      "text/plain": [
       "<IPython.core.display.HTML object>"
      ]
     },
     "metadata": {},
     "output_type": "display_data"
    },
    {
     "data": {
      "text/html": [
       "\n",
       "            <!DOCTYPE html>\n",
       "            <html>\n",
       "            <head>\n",
       "                <script src=\"https://cdn.tailwindcss.com\"></script>\n",
       "                <link href=\"https://fonts.googleapis.com/css2?family=DM+Sans:wght@400;500;700&family=Lexend:wght@400;500;600;700&family=Lora:wght@400;500;600;700&family=Playfair+Display:wght@400;500;600;700;800;900&family=JetBrains+Mono:wght@400;500;600;700&display=swap\" rel=\"stylesheet\">\n",
       "                <style>\n",
       "                    body { font-family: 'DM Sans', sans-serif; }\n",
       "                    h1, h2, h3, h4, h5, h6 { font-family: 'Lexend', sans-serif; }\n",
       "                    p { font-family: 'Lora', serif; }\n",
       "                    code, pre { font-family: 'JetBrains Mono', monospace; }\n",
       "                    .dm-sans { font-family: 'DM Sans', sans-serif; }\n",
       "                    .lexend { font-family: 'Lexend', sans-serif; }\n",
       "                    .lora { font-family: 'Lora', serif; }\n",
       "                    .jetbrains-mono { font-family: 'JetBrains Mono', monospace; }\n",
       "                    .playfair { font-family: 'Playfair Display', serif; }\n",
       "                </style>\n",
       "            </head>\n",
       "            <body>\n",
       "                <div class='text-lg font-bold text-blue-500'>Use Tailwind utility just as you would normally!</div>\n",
       "            </body>\n",
       "            </html>\n",
       "            "
      ],
      "text/plain": [
       "<IPython.core.display.HTML object>"
      ]
     },
     "metadata": {},
     "output_type": "display_data"
    },
    {
     "data": {
      "text/html": [
       "\n",
       "            <!DOCTYPE html>\n",
       "            <html>\n",
       "            <head>\n",
       "                <script src=\"https://cdn.tailwindcss.com\"></script>\n",
       "                <link href=\"https://fonts.googleapis.com/css2?family=DM+Sans:wght@400;500;700&family=Lexend:wght@400;500;600;700&family=Lora:wght@400;500;600;700&family=Playfair+Display:wght@400;500;600;700;800;900&family=JetBrains+Mono:wght@400;500;600;700&display=swap\" rel=\"stylesheet\">\n",
       "                <style>\n",
       "                    body { font-family: 'DM Sans', sans-serif; }\n",
       "                    h1, h2, h3, h4, h5, h6 { font-family: 'Lexend', sans-serif; }\n",
       "                    p { font-family: 'Lora', serif; }\n",
       "                    code, pre { font-family: 'JetBrains Mono', monospace; }\n",
       "                    .dm-sans { font-family: 'DM Sans', sans-serif; }\n",
       "                    .lexend { font-family: 'Lexend', sans-serif; }\n",
       "                    .lora { font-family: 'Lora', serif; }\n",
       "                    .jetbrains-mono { font-family: 'JetBrains Mono', monospace; }\n",
       "                    .playfair { font-family: 'Playfair Display', serif; }\n",
       "                </style>\n",
       "            </head>\n",
       "            <body>\n",
       "                <div class='text-2xl text-black font-black jetbrains-mono flex justify-center items-center p-4 rounded-md bg-gradient-to-r from-red-500 to-yellow-500'>At the end of the day, you're writing PURE Tailwind CSS!</div>\n",
       "            </body>\n",
       "            </html>\n",
       "            "
      ],
      "text/plain": [
       "<IPython.core.display.HTML object>"
      ]
     },
     "metadata": {},
     "output_type": "display_data"
    }
   ],
   "source": [
    "# Write with Tailwind!\n",
    "tailwind.display(\"Am I using Tailwind?\")\n",
    "\n",
    "tailwind.display(\"I'm using Tailwind CSS with Python!\",\n",
    "                 className=\"text-md text-white\")\n",
    "\n",
    "tailwind.display(\"Use Tailwind utility just as you would normally!\",\n",
    "                 className=\"text-lg font-bold text-blue-500\")\n",
    "\n",
    "tailwind.display(\"At the end of the day, you're writing PURE Tailwind CSS!\", \n",
    "                 className=\"text-2xl text-black font-black jetbrains-mono flex justify-center items-center p-4 rounded-md bg-gradient-to-r from-red-500 to-yellow-500\")"
   ]
  },
  {
   "cell_type": "code",
   "execution_count": 4,
   "metadata": {},
   "outputs": [
    {
     "data": {
      "text/html": [
       "\n",
       "            <!DOCTYPE html>\n",
       "            <html>\n",
       "            <head>\n",
       "                <script src=\"https://cdn.tailwindcss.com\"></script>\n",
       "                <link href=\"https://fonts.googleapis.com/css2?family=DM+Sans:wght@400;500;700&family=Lexend:wght@400;500;600;700&family=Lora:wght@400;500;600;700&family=Playfair+Display:wght@400;500;600;700;800;900&family=JetBrains+Mono:wght@400;500;600;700&display=swap\" rel=\"stylesheet\">\n",
       "                <style>\n",
       "                    body { font-family: 'DM Sans', sans-serif; }\n",
       "                    h1, h2, h3, h4, h5, h6 { font-family: 'Lexend', sans-serif; }\n",
       "                    p { font-family: 'Lora', serif; }\n",
       "                    code, pre { font-family: 'JetBrains Mono', monospace; }\n",
       "                    .dm-sans { font-family: 'DM Sans', sans-serif; }\n",
       "                    .lexend { font-family: 'Lexend', sans-serif; }\n",
       "                    .lora { font-family: 'Lora', serif; }\n",
       "                    .jetbrains-mono { font-family: 'JetBrains Mono', monospace; }\n",
       "                    .playfair { font-family: 'Playfair Display', serif; }\n",
       "                </style>\n",
       "            </head>\n",
       "            <body>\n",
       "                <div class='text-2xl'>The Module comes Built in with a few Variable Google Fonts!</div>\n",
       "            </body>\n",
       "            </html>\n",
       "            "
      ],
      "text/plain": [
       "<IPython.core.display.HTML object>"
      ]
     },
     "metadata": {},
     "output_type": "display_data"
    },
    {
     "data": {
      "text/html": [
       "\n",
       "            <!DOCTYPE html>\n",
       "            <html>\n",
       "            <head>\n",
       "                <script src=\"https://cdn.tailwindcss.com\"></script>\n",
       "                <link href=\"https://fonts.googleapis.com/css2?family=DM+Sans:wght@400;500;700&family=Lexend:wght@400;500;600;700&family=Lora:wght@400;500;600;700&family=Playfair+Display:wght@400;500;600;700;800;900&family=JetBrains+Mono:wght@400;500;600;700&display=swap\" rel=\"stylesheet\">\n",
       "                <style>\n",
       "                    body { font-family: 'DM Sans', sans-serif; }\n",
       "                    h1, h2, h3, h4, h5, h6 { font-family: 'Lexend', sans-serif; }\n",
       "                    p { font-family: 'Lora', serif; }\n",
       "                    code, pre { font-family: 'JetBrains Mono', monospace; }\n",
       "                    .dm-sans { font-family: 'DM Sans', sans-serif; }\n",
       "                    .lexend { font-family: 'Lexend', sans-serif; }\n",
       "                    .lora { font-family: 'Lora', serif; }\n",
       "                    .jetbrains-mono { font-family: 'JetBrains Mono', monospace; }\n",
       "                    .playfair { font-family: 'Playfair Display', serif; }\n",
       "                </style>\n",
       "            </head>\n",
       "            <body>\n",
       "                <div class='text-2xl dm-sans'>I'm using DM Sans!</div>\n",
       "            </body>\n",
       "            </html>\n",
       "            "
      ],
      "text/plain": [
       "<IPython.core.display.HTML object>"
      ]
     },
     "metadata": {},
     "output_type": "display_data"
    },
    {
     "data": {
      "text/html": [
       "\n",
       "            <!DOCTYPE html>\n",
       "            <html>\n",
       "            <head>\n",
       "                <script src=\"https://cdn.tailwindcss.com\"></script>\n",
       "                <link href=\"https://fonts.googleapis.com/css2?family=DM+Sans:wght@400;500;700&family=Lexend:wght@400;500;600;700&family=Lora:wght@400;500;600;700&family=Playfair+Display:wght@400;500;600;700;800;900&family=JetBrains+Mono:wght@400;500;600;700&display=swap\" rel=\"stylesheet\">\n",
       "                <style>\n",
       "                    body { font-family: 'DM Sans', sans-serif; }\n",
       "                    h1, h2, h3, h4, h5, h6 { font-family: 'Lexend', sans-serif; }\n",
       "                    p { font-family: 'Lora', serif; }\n",
       "                    code, pre { font-family: 'JetBrains Mono', monospace; }\n",
       "                    .dm-sans { font-family: 'DM Sans', sans-serif; }\n",
       "                    .lexend { font-family: 'Lexend', sans-serif; }\n",
       "                    .lora { font-family: 'Lora', serif; }\n",
       "                    .jetbrains-mono { font-family: 'JetBrains Mono', monospace; }\n",
       "                    .playfair { font-family: 'Playfair Display', serif; }\n",
       "                </style>\n",
       "            </head>\n",
       "            <body>\n",
       "                <div class='text-2xl lora'>I'm using Lora!</div>\n",
       "            </body>\n",
       "            </html>\n",
       "            "
      ],
      "text/plain": [
       "<IPython.core.display.HTML object>"
      ]
     },
     "metadata": {},
     "output_type": "display_data"
    },
    {
     "data": {
      "text/html": [
       "\n",
       "            <!DOCTYPE html>\n",
       "            <html>\n",
       "            <head>\n",
       "                <script src=\"https://cdn.tailwindcss.com\"></script>\n",
       "                <link href=\"https://fonts.googleapis.com/css2?family=DM+Sans:wght@400;500;700&family=Lexend:wght@400;500;600;700&family=Lora:wght@400;500;600;700&family=Playfair+Display:wght@400;500;600;700;800;900&family=JetBrains+Mono:wght@400;500;600;700&display=swap\" rel=\"stylesheet\">\n",
       "                <style>\n",
       "                    body { font-family: 'DM Sans', sans-serif; }\n",
       "                    h1, h2, h3, h4, h5, h6 { font-family: 'Lexend', sans-serif; }\n",
       "                    p { font-family: 'Lora', serif; }\n",
       "                    code, pre { font-family: 'JetBrains Mono', monospace; }\n",
       "                    .dm-sans { font-family: 'DM Sans', sans-serif; }\n",
       "                    .lexend { font-family: 'Lexend', sans-serif; }\n",
       "                    .lora { font-family: 'Lora', serif; }\n",
       "                    .jetbrains-mono { font-family: 'JetBrains Mono', monospace; }\n",
       "                    .playfair { font-family: 'Playfair Display', serif; }\n",
       "                </style>\n",
       "            </head>\n",
       "            <body>\n",
       "                <div class='text-2xl lexend'>I'm using Lexend!</div>\n",
       "            </body>\n",
       "            </html>\n",
       "            "
      ],
      "text/plain": [
       "<IPython.core.display.HTML object>"
      ]
     },
     "metadata": {},
     "output_type": "display_data"
    },
    {
     "data": {
      "text/html": [
       "\n",
       "            <!DOCTYPE html>\n",
       "            <html>\n",
       "            <head>\n",
       "                <script src=\"https://cdn.tailwindcss.com\"></script>\n",
       "                <link href=\"https://fonts.googleapis.com/css2?family=DM+Sans:wght@400;500;700&family=Lexend:wght@400;500;600;700&family=Lora:wght@400;500;600;700&family=Playfair+Display:wght@400;500;600;700;800;900&family=JetBrains+Mono:wght@400;500;600;700&display=swap\" rel=\"stylesheet\">\n",
       "                <style>\n",
       "                    body { font-family: 'DM Sans', sans-serif; }\n",
       "                    h1, h2, h3, h4, h5, h6 { font-family: 'Lexend', sans-serif; }\n",
       "                    p { font-family: 'Lora', serif; }\n",
       "                    code, pre { font-family: 'JetBrains Mono', monospace; }\n",
       "                    .dm-sans { font-family: 'DM Sans', sans-serif; }\n",
       "                    .lexend { font-family: 'Lexend', sans-serif; }\n",
       "                    .lora { font-family: 'Lora', serif; }\n",
       "                    .jetbrains-mono { font-family: 'JetBrains Mono', monospace; }\n",
       "                    .playfair { font-family: 'Playfair Display', serif; }\n",
       "                </style>\n",
       "            </head>\n",
       "            <body>\n",
       "                <div class='text-2xl jetbrains-mono'>I'm using JetBrains Mono!</div>\n",
       "            </body>\n",
       "            </html>\n",
       "            "
      ],
      "text/plain": [
       "<IPython.core.display.HTML object>"
      ]
     },
     "metadata": {},
     "output_type": "display_data"
    },
    {
     "data": {
      "text/html": [
       "\n",
       "            <!DOCTYPE html>\n",
       "            <html>\n",
       "            <head>\n",
       "                <script src=\"https://cdn.tailwindcss.com\"></script>\n",
       "                <link href=\"https://fonts.googleapis.com/css2?family=DM+Sans:wght@400;500;700&family=Lexend:wght@400;500;600;700&family=Lora:wght@400;500;600;700&family=Playfair+Display:wght@400;500;600;700;800;900&family=JetBrains+Mono:wght@400;500;600;700&display=swap\" rel=\"stylesheet\">\n",
       "                <style>\n",
       "                    body { font-family: 'DM Sans', sans-serif; }\n",
       "                    h1, h2, h3, h4, h5, h6 { font-family: 'Lexend', sans-serif; }\n",
       "                    p { font-family: 'Lora', serif; }\n",
       "                    code, pre { font-family: 'JetBrains Mono', monospace; }\n",
       "                    .dm-sans { font-family: 'DM Sans', sans-serif; }\n",
       "                    .lexend { font-family: 'Lexend', sans-serif; }\n",
       "                    .lora { font-family: 'Lora', serif; }\n",
       "                    .jetbrains-mono { font-family: 'JetBrains Mono', monospace; }\n",
       "                    .playfair { font-family: 'Playfair Display', serif; }\n",
       "                </style>\n",
       "            </head>\n",
       "            <body>\n",
       "                <div class='text-2xl playfair-display'>I'm using Playfair Display!</div>\n",
       "            </body>\n",
       "            </html>\n",
       "            "
      ],
      "text/plain": [
       "<IPython.core.display.HTML object>"
      ]
     },
     "metadata": {},
     "output_type": "display_data"
    },
    {
     "data": {
      "text/html": [
       "\n",
       "            <!DOCTYPE html>\n",
       "            <html>\n",
       "            <head>\n",
       "                <script src=\"https://cdn.tailwindcss.com\"></script>\n",
       "                <link href=\"https://fonts.googleapis.com/css2?family=DM+Sans:wght@400;500;700&family=Lexend:wght@400;500;600;700&family=Lora:wght@400;500;600;700&family=Playfair+Display:wght@400;500;600;700;800;900&family=JetBrains+Mono:wght@400;500;600;700&display=swap\" rel=\"stylesheet\">\n",
       "                <style>\n",
       "                    body { font-family: 'DM Sans', sans-serif; }\n",
       "                    h1, h2, h3, h4, h5, h6 { font-family: 'Lexend', sans-serif; }\n",
       "                    p { font-family: 'Lora', serif; }\n",
       "                    code, pre { font-family: 'JetBrains Mono', monospace; }\n",
       "                    .dm-sans { font-family: 'DM Sans', sans-serif; }\n",
       "                    .lexend { font-family: 'Lexend', sans-serif; }\n",
       "                    .lora { font-family: 'Lora', serif; }\n",
       "                    .jetbrains-mono { font-family: 'JetBrains Mono', monospace; }\n",
       "                    .playfair { font-family: 'Playfair Display', serif; }\n",
       "                </style>\n",
       "            </head>\n",
       "            <body>\n",
       "                <div class='text-2xl dm-sans font-black'>I can use different weights too!</div>\n",
       "            </body>\n",
       "            </html>\n",
       "            "
      ],
      "text/plain": [
       "<IPython.core.display.HTML object>"
      ]
     },
     "metadata": {},
     "output_type": "display_data"
    },
    {
     "data": {
      "text/html": [
       "\n",
       "            <!DOCTYPE html>\n",
       "            <html>\n",
       "            <head>\n",
       "                <script src=\"https://cdn.tailwindcss.com\"></script>\n",
       "                <link href=\"https://fonts.googleapis.com/css2?family=DM+Sans:wght@400;500;700&family=Lexend:wght@400;500;600;700&family=Lora:wght@400;500;600;700&family=Playfair+Display:wght@400;500;600;700;800;900&family=JetBrains+Mono:wght@400;500;600;700&display=swap\" rel=\"stylesheet\">\n",
       "                <style>\n",
       "                    body { font-family: 'DM Sans', sans-serif; }\n",
       "                    h1, h2, h3, h4, h5, h6 { font-family: 'Lexend', sans-serif; }\n",
       "                    p { font-family: 'Lora', serif; }\n",
       "                    code, pre { font-family: 'JetBrains Mono', monospace; }\n",
       "                    .dm-sans { font-family: 'DM Sans', sans-serif; }\n",
       "                    .lexend { font-family: 'Lexend', sans-serif; }\n",
       "                    .lora { font-family: 'Lora', serif; }\n",
       "                    .jetbrains-mono { font-family: 'JetBrains Mono', monospace; }\n",
       "                    .playfair { font-family: 'Playfair Display', serif; }\n",
       "                </style>\n",
       "            </head>\n",
       "            <body>\n",
       "                <div class='text-2xl jetbrains-mono italic'>And Italics!</div>\n",
       "            </body>\n",
       "            </html>\n",
       "            "
      ],
      "text/plain": [
       "<IPython.core.display.HTML object>"
      ]
     },
     "metadata": {},
     "output_type": "display_data"
    }
   ],
   "source": [
    "# Google Font Support\n",
    "\n",
    "tailwind.display(\"The Module comes Built in with a few Variable Google Fonts!\", className=\"text-2xl\")\n",
    "\n",
    "tailwind.display(\"I'm using DM Sans!\", \n",
    "                 className=\"text-2xl dm-sans\")\n",
    "\n",
    "tailwind.display(\"I'm using Lora!\",\n",
    "                 className=\"text-2xl lora\")\n",
    "\n",
    "tailwind.display(\"I'm using Lexend!\",\n",
    "                    className=\"text-2xl lexend\")\n",
    "\n",
    "tailwind.display(\"I'm using JetBrains Mono!\",\n",
    "                    className=\"text-2xl jetbrains-mono\")\n",
    "\n",
    "tailwind.display(\"I'm using Playfair Display!\",\n",
    "                    className=\"text-2xl playfair-display\")\n",
    "\n",
    "tailwind.display(\"I can use different weights too!\",\n",
    "                 className=\"text-2xl dm-sans font-black\")\n",
    "\n",
    "tailwind.display(\"And Italics!\",\n",
    "                    className=\"text-2xl jetbrains-mono italic\")"
   ]
  }
 ],
 "metadata": {
  "kernelspec": {
   "display_name": "py",
   "language": "python",
   "name": "python3"
  },
  "language_info": {
   "codemirror_mode": {
    "name": "ipython",
    "version": 3
   },
   "file_extension": ".py",
   "mimetype": "text/x-python",
   "name": "python",
   "nbconvert_exporter": "python",
   "pygments_lexer": "ipython3",
   "version": "3.11.8"
  }
 },
 "nbformat": 4,
 "nbformat_minor": 2
}
